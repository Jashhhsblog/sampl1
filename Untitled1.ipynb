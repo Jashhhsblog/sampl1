{
  "nbformat": 4,
  "nbformat_minor": 0,
  "metadata": {
    "colab": {
      "provenance": [],
      "collapsed_sections": [],
      "authorship_tag": "ABX9TyN0zwE5a5OAGx3PxV7URlat",
      "include_colab_link": true
    },
    "kernelspec": {
      "name": "python3",
      "display_name": "Python 3"
    },
    "language_info": {
      "name": "python"
    }
  },
  "cells": [
    {
      "cell_type": "markdown",
      "metadata": {
        "id": "view-in-github",
        "colab_type": "text"
      },
      "source": [
        "<a href=\"https://colab.research.google.com/github/Jashhhsblog/sampl1/blob/main/Untitled1.ipynb\" target=\"_parent\"><img src=\"https://colab.research.google.com/assets/colab-badge.svg\" alt=\"Open In Colab\"/></a>"
      ]
    },
    {
      "cell_type": "code",
      "execution_count": 1,
      "metadata": {
        "id": "M2qWbpKu5hJc",
        "outputId": "6108601a-61f4-4498-dc00-d7d027737910",
        "colab": {
          "base_uri": "https://localhost:8080/",
          "height": 131
        }
      },
      "outputs": [
        {
          "output_type": "error",
          "ename": "SyntaxError",
          "evalue": "ignored",
          "traceback": [
            "\u001b[0;36m  File \u001b[0;32m\"<ipython-input-1-8a5c2c6b9611>\"\u001b[0;36m, line \u001b[0;32m3\u001b[0m\n\u001b[0;31m    pip install FER\u001b[0m\n\u001b[0m              ^\u001b[0m\n\u001b[0;31mSyntaxError\u001b[0m\u001b[0;31m:\u001b[0m invalid syntax\n"
          ]
        }
      ],
      "source": [
        "# We install the FER() library to perform facial recognition\n",
        "# This installation will also take care of any of the above dependencies if they are missing\n",
        "pip install FER\n",
        "\n",
        "from fer import FER\n",
        "import matplotlib.pyplot as plt \n",
        "%matplotlib inline\n",
        "\n",
        "test_image_one = plt.imread(\"/content/Image-One.jpeg\")\n",
        "emo_detector = FER(mtcnn=True)\n",
        "# Capture all the emotions on the image\n",
        "captured_emotions = emo_detector.detect_emotions(test_image_one)\n",
        "# Print all captured emotions with the image\n",
        "print(captured_emotions)\n",
        "plt.imshow(test_image_one)\n",
        "\n",
        "# Use the top Emotion() function to call for the dominant emotion in the image\n",
        "dominant_emotion, emotion_score = emo_detector.top_emotion(test_image_one)\n",
        "print(dominant_emotion, emotion_score) "
      ]
    },
    {
      "cell_type": "code",
      "source": [
        "print(\"jash\")"
      ],
      "metadata": {
        "colab": {
          "base_uri": "https://localhost:8080/"
        },
        "id": "dVG4e_IXwG6w",
        "outputId": "240c6fd2-1784-4f60-cf1b-b6f0529f752e"
      },
      "execution_count": 2,
      "outputs": [
        {
          "output_type": "stream",
          "name": "stdout",
          "text": [
            "jash\n"
          ]
        }
      ]
    }
  ]
}